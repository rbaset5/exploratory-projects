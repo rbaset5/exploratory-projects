{
 "metadata": {
  "language_info": {
   "codemirror_mode": {
    "name": "ipython",
    "version": 3
   },
   "file_extension": ".py",
   "mimetype": "text/x-python",
   "name": "python",
   "nbconvert_exporter": "python",
   "pygments_lexer": "ipython3",
   "version": "3.8.3-final"
  },
  "orig_nbformat": 2,
  "kernelspec": {
   "name": "python3",
   "display_name": "Python 3",
   "language": "python"
  }
 },
 "nbformat": 4,
 "nbformat_minor": 2,
 "cells": [
  {
   "cell_type": "code",
   "execution_count": 1,
   "metadata": {},
   "outputs": [],
   "source": [
    "import numpy as np\n",
    "import pandas as pd"
   ]
  },
  {
   "cell_type": "code",
   "execution_count": 2,
   "metadata": {},
   "outputs": [],
   "source": [
    "data = pd.read_csv('merged-costs.csv')"
   ]
  },
  {
   "cell_type": "code",
   "execution_count": 3,
   "metadata": {},
   "outputs": [
    {
     "output_type": "execute_result",
     "data": {
      "text/plain": [
       "        e Country       City                    Line Start year End year  RR?  \\\n",
       "0  7136.0      CA  Vancouver                Broadway       2020     2025  0.0   \n",
       "1  7137.0      CA    Toronto                 Vaughan       2009     2017  0.0   \n",
       "2  7138.0      CA    Toronto             Scarborough       2020     2030  0.0   \n",
       "3  7139.0      CA    Toronto                 Ontario       2020     2030  0.0   \n",
       "4  7144.0      CA    Toronto  Yonge to Richmond Hill       2020     2030  0.0   \n",
       "\n",
       "   Length TunnelPer  Tunnel Stations Source1   Cost Currency    Year  \\\n",
       "0     5.7    87.72%     5.0        6    Plan  2,830      CAD  2018.0   \n",
       "1     8.6   100.00%     8.6        6   Media  3,200      CAD  2013.0   \n",
       "2     7.8   100.00%     7.8        3    Wiki  5,500      CAD  2018.0   \n",
       "3    15.5    57.00%     8.8       15    Plan  8,573      CAD  2019.0   \n",
       "4     7.4   100.00%     7.4        6    Plan  5,600      CAD  2020.0   \n",
       "\n",
       "   PPP rate Real cost  Cost/km (Millions) Source2  \\\n",
       "0      0.84    2377.2          417.052632   Media   \n",
       "1      0.81      2592          301.395349   Media   \n",
       "2      0.84      4620          592.307692   Media   \n",
       "3      0.84   7201.32          464.601290    Plan   \n",
       "4      0.84      4704          635.675676   Media   \n",
       "\n",
       "                                           Reference  \n",
       "0  https://www.translink.ca/Plans-and-Projects/Ra...  \n",
       "1  https://www.thestar.com/news/gta/transportatio...  \n",
       "2  https://urbantoronto.ca/news/2020/03/metrolinx...  \n",
       "3  https://metrolinx.files.wordpress.com/2019/07/...  \n",
       "4  https://www.thestar.com/news/gta/2020/06/24/me...  "
      ],
      "text/html": "<div>\n<style scoped>\n    .dataframe tbody tr th:only-of-type {\n        vertical-align: middle;\n    }\n\n    .dataframe tbody tr th {\n        vertical-align: top;\n    }\n\n    .dataframe thead th {\n        text-align: right;\n    }\n</style>\n<table border=\"1\" class=\"dataframe\">\n  <thead>\n    <tr style=\"text-align: right;\">\n      <th></th>\n      <th>e</th>\n      <th>Country</th>\n      <th>City</th>\n      <th>Line</th>\n      <th>Start year</th>\n      <th>End year</th>\n      <th>RR?</th>\n      <th>Length</th>\n      <th>TunnelPer</th>\n      <th>Tunnel</th>\n      <th>Stations</th>\n      <th>Source1</th>\n      <th>Cost</th>\n      <th>Currency</th>\n      <th>Year</th>\n      <th>PPP rate</th>\n      <th>Real cost</th>\n      <th>Cost/km (Millions)</th>\n      <th>Source2</th>\n      <th>Reference</th>\n    </tr>\n  </thead>\n  <tbody>\n    <tr>\n      <th>0</th>\n      <td>7136.0</td>\n      <td>CA</td>\n      <td>Vancouver</td>\n      <td>Broadway</td>\n      <td>2020</td>\n      <td>2025</td>\n      <td>0.0</td>\n      <td>5.7</td>\n      <td>87.72%</td>\n      <td>5.0</td>\n      <td>6</td>\n      <td>Plan</td>\n      <td>2,830</td>\n      <td>CAD</td>\n      <td>2018.0</td>\n      <td>0.84</td>\n      <td>2377.2</td>\n      <td>417.052632</td>\n      <td>Media</td>\n      <td>https://www.translink.ca/Plans-and-Projects/Ra...</td>\n    </tr>\n    <tr>\n      <th>1</th>\n      <td>7137.0</td>\n      <td>CA</td>\n      <td>Toronto</td>\n      <td>Vaughan</td>\n      <td>2009</td>\n      <td>2017</td>\n      <td>0.0</td>\n      <td>8.6</td>\n      <td>100.00%</td>\n      <td>8.6</td>\n      <td>6</td>\n      <td>Media</td>\n      <td>3,200</td>\n      <td>CAD</td>\n      <td>2013.0</td>\n      <td>0.81</td>\n      <td>2592</td>\n      <td>301.395349</td>\n      <td>Media</td>\n      <td>https://www.thestar.com/news/gta/transportatio...</td>\n    </tr>\n    <tr>\n      <th>2</th>\n      <td>7138.0</td>\n      <td>CA</td>\n      <td>Toronto</td>\n      <td>Scarborough</td>\n      <td>2020</td>\n      <td>2030</td>\n      <td>0.0</td>\n      <td>7.8</td>\n      <td>100.00%</td>\n      <td>7.8</td>\n      <td>3</td>\n      <td>Wiki</td>\n      <td>5,500</td>\n      <td>CAD</td>\n      <td>2018.0</td>\n      <td>0.84</td>\n      <td>4620</td>\n      <td>592.307692</td>\n      <td>Media</td>\n      <td>https://urbantoronto.ca/news/2020/03/metrolinx...</td>\n    </tr>\n    <tr>\n      <th>3</th>\n      <td>7139.0</td>\n      <td>CA</td>\n      <td>Toronto</td>\n      <td>Ontario</td>\n      <td>2020</td>\n      <td>2030</td>\n      <td>0.0</td>\n      <td>15.5</td>\n      <td>57.00%</td>\n      <td>8.8</td>\n      <td>15</td>\n      <td>Plan</td>\n      <td>8,573</td>\n      <td>CAD</td>\n      <td>2019.0</td>\n      <td>0.84</td>\n      <td>7201.32</td>\n      <td>464.601290</td>\n      <td>Plan</td>\n      <td>https://metrolinx.files.wordpress.com/2019/07/...</td>\n    </tr>\n    <tr>\n      <th>4</th>\n      <td>7144.0</td>\n      <td>CA</td>\n      <td>Toronto</td>\n      <td>Yonge to Richmond Hill</td>\n      <td>2020</td>\n      <td>2030</td>\n      <td>0.0</td>\n      <td>7.4</td>\n      <td>100.00%</td>\n      <td>7.4</td>\n      <td>6</td>\n      <td>Plan</td>\n      <td>5,600</td>\n      <td>CAD</td>\n      <td>2020.0</td>\n      <td>0.84</td>\n      <td>4704</td>\n      <td>635.675676</td>\n      <td>Media</td>\n      <td>https://www.thestar.com/news/gta/2020/06/24/me...</td>\n    </tr>\n  </tbody>\n</table>\n</div>"
     },
     "metadata": {},
     "execution_count": 3
    }
   ],
   "source": [
    "data.head()"
   ]
  },
  {
   "cell_type": "code",
   "execution_count": 4,
   "metadata": {},
   "outputs": [
    {
     "output_type": "execute_result",
     "data": {
      "text/plain": [
       "e                     float64\n",
       "Country                object\n",
       "City                   object\n",
       "Line                   object\n",
       "Start year             object\n",
       "End year               object\n",
       "RR?                   float64\n",
       "Length                float64\n",
       "TunnelPer              object\n",
       "Tunnel                float64\n",
       "Stations               object\n",
       "Source1                object\n",
       "Cost                   object\n",
       "Currency               object\n",
       "Year                  float64\n",
       "PPP rate              float64\n",
       "Real cost              object\n",
       "Cost/km (Millions)    float64\n",
       "Source2                object\n",
       "Reference              object\n",
       "dtype: object"
      ]
     },
     "metadata": {},
     "execution_count": 4
    }
   ],
   "source": [
    "data.dtypes"
   ]
  },
  {
   "source": [
    "Data type conversions\n",
    "- Start year\n",
    "- End year\n",
    "- TunnelPer\n",
    "- Stations\n",
    "- Cost\n",
    "- year\n",
    "- Real Cost\n"
   ],
   "cell_type": "markdown",
   "metadata": {}
  },
  {
   "source": [
    "Data Dictionary\n",
    "transit_cost.csv\n",
    "variable\tclass\tdescription\n",
    "e\tdouble\tID\n",
    "country\tcharacter\tCountry Code - can be joined against countrycode via ecb or iso2c\n",
    "city\tcharacter\tCity where transit tunnel is being created\n",
    "line\tcharacter\tLine name or path\n",
    "start_year\tcharacter\tYear started\n",
    "end_year\tcharacter\tYear ended (predicted or actual)\n",
    "rr\tdouble\tI think this is Railroad (0 or 1), where 1 == Railroad?\n",
    "length\tdouble\tLength of proposed line in km\n",
    "tunnel_per\tcharacter\tPercent of line length completed\n",
    "tunnel\tdouble\tTunnel length of line completed in km (can take this divided by length to get tunnel_per)\n",
    "stations\tdouble\tNumber of stations where passengers can board/leave\n",
    "source1\tcharacter\tWhere was data sourced\n",
    "cost\tdouble\tCost in millions of local currency\n",
    "currency\tcharacter\tCurrency type\n",
    "year\tdouble\tMidpoint year of construction\n",
    "ppp_rate\tdouble\tpurchasing power parity (PPP), based on the midpoint of construction\n",
    "real_cost\tcharacter\tReal cost in Millions of USD\n",
    "cost_km_millions\tdouble\tCost/km in millions of USD\n",
    "source2\tcharacter\tWhere was data sourced for cost\n",
    "reference\tcharacter\tReference URL for source\n"
   ],
   "cell_type": "markdown",
   "metadata": {}
  },
  {
   "source": [
    "- Filter 'real_cost' by max \n",
    "- Arrange 'cost_km_millions' in descending order "
   ],
   "cell_type": "markdown",
   "metadata": {}
  }
 ]
}